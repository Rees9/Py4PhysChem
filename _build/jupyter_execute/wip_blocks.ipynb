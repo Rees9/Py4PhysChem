{
 "cells": [
  {
   "cell_type": "markdown",
   "id": "a99082a5",
   "metadata": {},
   "source": [
    "# Manipulating Data\n",
    "\n",
    "## WIP rebinning and removing outliers/errors\n",
    "\n",
    "### Rebinning/smoothing\n",
    "\n",
    "### Removing errors\n",
    "\n",
    "First, sometimes things go wrong with the instrument, our measurement, or one of the samples we are working with. This can create outliers or errors in our data, but that often doesn't mean the entirity of the data is meaningless. While not verging on data manipulation, we can remove errors or outliers from our data through some simple means.\n",
    "\n",
    "For example, if we have `na` data points that indicate an error or unuseable data, we can replace those with another value:\n"
   ]
  },
  {
   "cell_type": "code",
   "execution_count": 1,
   "id": "41aa9fb0",
   "metadata": {},
   "outputs": [
    {
     "name": "stdout",
     "output_type": "stream",
     "text": [
      "Original array: [       nan        nan 0.1587757  0.04851696 0.17330785 0.82887976\n",
      " 0.9935564  0.82855757 0.21388645        nan]\n",
      "Array with NaN replaced: [0.         0.         0.1587757  0.04851696 0.17330785 0.82887976\n",
      " 0.9935564  0.82855757 0.21388645 0.        ]\n"
     ]
    }
   ],
   "source": [
    "import numpy as np\n",
    "\n",
    "# Create an array of floats\n",
    "arr = np.random.rand(10)\n",
    "\n",
    "# Insert NaN values in random places\n",
    "nan_indices = np.random.choice(range(len(arr)), size=3, replace=False)\n",
    "arr[nan_indices] = np.nan\n",
    "\n",
    "print(\"Original array:\", arr)\n",
    "\n",
    "# Replace NaN values with zero\n",
    "arr[np.isnan(arr)] = 0\n",
    "\n",
    "print(\"Array with NaN replaced:\", arr)\n"
   ]
  },
  {
   "cell_type": "markdown",
   "id": "d38949a1",
   "metadata": {},
   "source": [
    "## WIP: Histograms using numpy"
   ]
  },
  {
   "cell_type": "markdown",
   "id": "ec4801c4",
   "metadata": {},
   "source": [
    "# Importing Data"
   ]
  },
  {
   "cell_type": "markdown",
   "id": "073ce9c0",
   "metadata": {},
   "source": [
    "## WIP: Multiple traces from a single File\n",
    "\n",
    "Let's do a more applied example. I have a series of absorption spectrums of Yb-doped CsPbCl3 perovskite films that I want to visualize. Looking at the data in an excel file or text editor I can see the following things:\n",
    "1. The first two rows are all header, so I want to skip those\n",
    "2. The first scan was a baseline 100% transmittance scan, so I want to use that array of data as my background\n",
    "2. Each absorption spectrum takes up two columns, so I want to extract one set of data for each experiment I did."
   ]
  },
  {
   "cell_type": "code",
   "execution_count": 2,
   "id": "03bf09a4",
   "metadata": {},
   "outputs": [],
   "source": [
    "# Import packages\n",
    "import numpy as np\n",
    "import matplotlib.pyplot as plt\n",
    "from scipy.signal import find_peaks\n",
    "\n",
    "# define where our file can be found to be imported\n",
    "filepath        = 'data/20-03-13ReesYbPerovAllSlideFilms.csv'\n",
    "\n",
    "data = np.genfromtxt(filepath, delimiter=',', skip_header=2, unpack=False) # here, we specify unpack=False because we want to keep all of our data in one array.\n",
    "\n",
    "# i know my first two columns corruspond to my background scan, so I will assign those to a new array called background\n",
    "background = data[:,0:2]\n",
    "# each entry has 2 columns, so we need to plot every other column. We will print what entry of the array we are plotting to make sure we are plotting the correct data\n",
    "\n",
    "for i in range(2, len(data[0,:]), 2):\n",
    "    wave = data[:,i]\n",
    "    intensity = data[:,i+1]\n",
    "    # subtract background\n",
    "    intensity = intensity - background[:,1]\n",
    "    #peaks, _ = find_peaks(intensity, height=0,prominence=0.005)\n",
    "    plt.plot(wave, intensity, label='raw')\n",
    "    #plt.scatter(wave[peaks], intensity[peaks], color='red')\n",
    "\n"
   ]
  },
  {
   "cell_type": "markdown",
   "id": "beb59c7c",
   "metadata": {},
   "source": [
    "## Marking Scheme. Moved b/c only really relevant for marking TA?\n",
    "The total assignment will be worth 10 marks. All marks will be assigned as either 0, 1/2 or 1, unless otherwise noted.\n",
    "\n",
    "### (3 Marks) Plotting\n",
    "- **(1 Mark):** Successfully imported and plot entire FTIR spectrum with appropriate labels and axes\n",
    "- **(1 Mark):** Annotate DCL and HCL regions of FTIR spectra aYou will notice *two* distinct regions in the data. Which corrusponds to HCl and which corrusponds to DCl? Label the Hydrogen and Deuterium regions (1 mark) and explain why. Show how to annotate plot?\n",
    "- **(1 Mark):** Create a fixed, adjusted plot of *only* (HCl/DCl) with appropriate labels and axes.\n",
    "\n",
    "### (5 Marks) Analysis\n",
    "- **(1 Mark):** *Programatically* extract the peak transition frequencies from your data and create a plot highlighting their positions.\n",
    "    - *Do we want to Coach them through doing analysis in ONE set of peaks of the two different ones.*\n",
    "    - **(1 Mark):** As a gas, HCl exists with natural isotopic abundance. With this in mind, explain and justify the presence of \"doublets\" in the transmission peaks from your plot,\n",
    "- **(1 Mark):** Assign each of the obtained peaks to a specific rotational transition [$R(0), P(1),$ etc]. Make sure you observe at least 8 peaks in both branches.\n",
    "- **(2 Marks):** Remove outliers and compute a regression with justification\n",
    "    - Discussion of uncertainty\n",
    "- **(1 Mark):** Using the data, determine the internuclear distance, $R_e$, and the force constant, $k$, of HCl/DCl.(1 mark)\n",
    "### (2 Marks) Extension\n",
    "- **(2 Marks)**: Plot, and analyze the alternative molecule using the same, adjusted code."
   ]
  },
  {
   "cell_type": "markdown",
   "id": "f7d49145",
   "metadata": {},
   "source": []
  }
 ],
 "metadata": {
  "kernelspec": {
   "display_name": "Python 3 (ipykernel)",
   "language": "python",
   "name": "python3"
  },
  "language_info": {
   "codemirror_mode": {
    "name": "ipython",
    "version": 3
   },
   "file_extension": ".py",
   "mimetype": "text/x-python",
   "name": "python",
   "nbconvert_exporter": "python",
   "pygments_lexer": "ipython3",
   "version": "3.7.4"
  }
 },
 "nbformat": 4,
 "nbformat_minor": 5
}