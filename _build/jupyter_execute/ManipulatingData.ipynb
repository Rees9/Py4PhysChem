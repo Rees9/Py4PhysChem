{
 "cells": [
  {
   "cell_type": "markdown",
   "id": "8bcd018d",
   "metadata": {},
   "source": [
    "# Data Manipulation & Analysis in Python\n",
    "\n",
    "Now that we have imported data, often we want to use it to determine certain experimental observables. A peak wavelength from a UV/VIS spectra, a lifetime from concentration data, or chemical shift peaks in NMR. There are a multitude of ways to use this data to perform operations, and here we will just present a few."
   ]
  },
  {
   "cell_type": "markdown",
   "id": "ae5dd668",
   "metadata": {},
   "source": [
    "Let's start with some NMR data of Ag~2~ZnSnS~4~ (AZTS) nanocrystals ([Yarur, F. *et al.* (Wilson), **2023.** *ChemRxiv*](https://chemrxiv.org/engage/chemrxiv/article-details/63e465cb3067856f18bc31f3)) labelled `D1 AZTS crude.csv`, using our template from the Importing Data section. Remember though, first we should always just *open up the data* to see what it looks like to figure out how to import it\n",
    "\n",
    "![image.png](images/nmr_data.png)\n",
    "\n",
    "What we can notice is that, despite being a .csv file, the data is not comma delimited. In fact, there's just a space between each number. Now we know what parameters to pass to import properly!"
   ]
  },
  {
   "cell_type": "code",
   "execution_count": 1,
   "id": "981f27d9",
   "metadata": {},
   "outputs": [
    {
     "name": "stdout",
     "output_type": "stream",
     "text": [
      "ppm =  [-2.0181  -2.01786 -2.01761 ... 14.0179  14.0181  14.0184 ]\n",
      "signal =  [-0.0377323 -0.0383906 -0.0410056 ...  0.0453818  0.0463226  0.0456263]\n"
     ]
    },
    {
     "data": {
      "text/plain": [
       "[<matplotlib.lines.Line2D at 0x18e8d8e3048>]"
      ]
     },
     "execution_count": 1,
     "metadata": {},
     "output_type": "execute_result"
    }
   ],
   "source": [
    "### IMPORT AND ROUGH PLOT DATA\n",
    "# Import packages\n",
    "import numpy as np\n",
    "import matplotlib.pyplot as plt\n",
    "\n",
    "# define where our file can be found to be imported\n",
    "filepath        = 'data/D1 AZTS crude.csv'\n",
    "\n",
    "# label each variable something relevant to what it represents\n",
    "ppm, signal             = np.genfromtxt(filepath,           # string, filepath to data\n",
    "                                 dtype=float,       # data is float\n",
    "                                 delimiter='',      # data is separated by spaces/tabs, so leave this blank\n",
    "                                 skip_header=0,     # when we look, data has no header, so we set this to zero\n",
    "                                 unpack=True)       # first column is ppm, second column is absorption\n",
    "\n",
    "# print and plot data to try and look if data imported properly\n",
    "print('ppm = ',ppm)\n",
    "print('signal = ',signal)\n",
    "\n",
    "plt.plot(ppm,signal) # plt.plot(xvalues, yvalues)"
   ]
  },
  {
   "cell_type": "markdown",
   "id": "30b188e0",
   "metadata": {},
   "source": [
    "## Truncating data with boolean logic\n",
    "\n",
    "`````{admonition} For CHM223 students\n",
    ":class: important\n",
    "This subsection is relevant for your assignment!\n",
    "`````\n",
    "\n",
    "While we can modify the limits of our plots to highlight specific regions of interest, we also might frequently want to truncate our data itself. In particular, if we are trying to do any integration over our entire spectra, or normalize our data to a local extrema versus an absolute that isn't physically relevant (due to error, laser, instrumentation, etc.).\n",
    "\n",
    "Luckily, python has easy ways for us to modify our data accordingly using **boolean logic** (For a refresher, check out computational assignment X.) Given an array, we can check each value within an array against a condition, such as smaller than a certain number. This will return an array of the same size with only boolean values of `True` or `False`. \n",
    "\n",
    "Lets use the NMR data above for example. Say we only care about data where ppm is less than 10. We can check which values corruspond to less than 10 ppm as follows:\n",
    "\n",
    "`print(ppm < 10)`\n",
    "\n",
    "which returns\n",
    "\n",
    "`[ True  True  True True True ...  False False False False False]`\n",
    "\n",
    "why this is useful, is we can use this array of boolean values to modify our original array, or the signal array which corrusponds to those x values (pmm values), where we only keep every value where the entry is true. See below"
   ]
  },
  {
   "cell_type": "code",
   "execution_count": 2,
   "id": "c939aa19",
   "metadata": {},
   "outputs": [],
   "source": [
    "# import data\n",
    "filepath        = 'data/D1 AZTS crude.csv'\n",
    "ppm, signal = np.genfromtxt(filepath, dtype=float, delimiter='', skip_header=0, unpack=True)\n",
    "\n",
    "# plot our data, unmodified\n",
    "plt.plot(ppm,signal,'--',color='black',label='original data',)\n",
    "\n",
    "# modify the ppm and signal arrays to only include values where the signal is less than 10\n",
    "signal = signal[ppm < 10]   # first, modify the y values to corruspond to when the x values are less than 10\n",
    "ppm = ppm[ppm < 10]         # then, modify the x values to corruspond to when the x values are less than 10\n",
    "\n",
    "# furthermore, we might also want to only include values where ppm is greater than 0\n",
    "signal = signal[ppm > 0]    # first, modify the y values to corruspond to when the x values are greater than 0\n",
    "ppm = ppm[ppm > 0]          # then, modify the x values to corruspond to when the x values are greater than 0\n",
    "\n",
    "# plot our truncated data\n",
    "plt.plot(ppm,signal,color='red',label='truncated data')\n",
    "plt.legend()\n",
    "\n",
    "# We can also do the same operations above but with a single line of code for array of data\n",
    "# the & symbol allows us to do multiple comparisons at once, as long as we put each comparison in parentheses ()\n",
    "ppm, signal = np.genfromtxt(filepath, dtype=float, delimiter='', skip_header=0, unpack=True)\n",
    "signal = signal[(ppm < 10) & (ppm > 0)] # first, modify the y values to corruspond to when the x values are less than 10 and greater than 0\n",
    "ppm = ppm[(ppm < 10) & (ppm > 0)] # then, modify the x values to corruspond to when the x values are less than 10 and greater than 0\n",
    "\n",
    "\n"
   ]
  },
  {
   "cell_type": "markdown",
   "id": "601090e3",
   "metadata": {},
   "source": [
    "## Finding peaks: scipy.find_peaks\n",
    "\n",
    "`````{admonition} For CHM223 students\n",
    ":class: important\n",
    "This subsection is relevant for your assignment!\n",
    "`````\n",
    "\n",
    "scipy, like numpy or matplotlib, is another package for python that includes a large number of functions useful for science and data analysis. One of the many included is the function `find_peaks()`, which allows us to locate peaks in an array of values in order to determine their positions, not unlike in FTIR software.\n",
    "\n",
    "The function is used as follows:\n",
    "\n",
    "`peaks , _ = scipy.find_peaks(data, height = x, width = y, prominence = z)`\n",
    "\n",
    "where the created array `peaks` will be an array of all the positions (i.e. indices) in the original array where the peaks are found. For example, a value of `34` in the `peaks` array would imply we have a peak located at `data[34]`. For those interested, the underscore in `, _` just represents that for all the other things the function returns, we don't care about them and want to throw them away.\n",
    "\n",
    "There are a few important controls for this function:\n",
    "- `height =` will specify a threshold for the minimum height of a peak. If we know our background signal, this means we will never obtain any local minimum that may appear from a fluctuating background for example.\n",
    "- `width =` will specify the expected width between neighbouring peaks. This is useful if we know that our data is well separated, as alongside height, we can specify that peaks we care about should be above a value of 1, while also being no less than 0.5 units apart from each other.\n",
    "- `prominence =` is the most elusive of all but arguably the most useful. It helps create a threshold of peak values by defining *the minimum height necessary to descend to get from a peak to any other peak*. **Often, the proper use of prominence will mean we don't require any other controls, as highlighted in the example below**\n",
    "\n",
    " We can see an example of analyzing NMR data below\n",
    "\n"
   ]
  },
  {
   "cell_type": "code",
   "execution_count": 3,
   "id": "6be0d28e",
   "metadata": {},
   "outputs": [
    {
     "name": "stdout",
     "output_type": "stream",
     "text": [
      "peaks located at  [1.05098 1.06786 1.38916 2.10859 2.17466 3.46768 5.56162 6.95398 6.97258\n",
      " 6.9973  7.01516 7.06386 7.08245]\n"
     ]
    }
   ],
   "source": [
    "# Import packages\n",
    "import numpy as np\n",
    "import matplotlib.pyplot as plt\n",
    "from scipy.signal import find_peaks\n",
    "\n",
    "# define where our file can be found to be imported\n",
    "filepath        = 'data/D1 AZTS crude.csv' # sourced from E:\\Dropbox (WilsonLab)\\WilsonLab Team Folder\\Projects\\2021-04 - AZTS (SilKets) NCs\\NMR\n",
    "\n",
    "# import data, using our template from the previous section\n",
    "ppm, signal            = np.genfromtxt(filepath,\n",
    "                                 dtype=float,\n",
    "                                 delimiter='',\n",
    "                                 skip_header=0,\n",
    "                                 unpack=True)\n",
    "\n",
    "# first, truncate our data to regions we care about\n",
    "\n",
    "signal = signal[(ppm < 10) & (ppm > 0)] # first, modify the y values to corruspond to when the x values are less than 10 and greater than 0\n",
    "ppm = ppm[(ppm < 10) & (ppm > 0)]       # then, modify the x values to corruspond to when the x values are less than 10 and greater than 0\n",
    "\n",
    "# plot the data\n",
    "plt.plot(ppm,signal,color='black',label='truncated data')\n",
    "\n",
    "\n",
    "# find peaks and plot them\n",
    "peaks , _ = find_peaks(signal, height=0.1,prominence=1)\n",
    "plt.plot(ppm[peaks], signal[peaks], \"x\",label='peaks',color='red')\n",
    "\n",
    "# flip x-axis; how nmr people do it!\n",
    "plt.xlim(10,0)\n",
    "\n",
    "# label x and y axis and add a title\n",
    "plt.xlabel('$\\delta$ ppm')\n",
    "plt.ylabel('intensity (a.u.)')\n",
    "plt.title('1H NMR of AZTS NCs crude') # change title to match sample name\n",
    "plt.legend() # show a legend with the labels we defined earlier\n",
    "print('peaks located at ',ppm[peaks]) # print the ppm values of the peaks\n"
   ]
  },
  {
   "cell_type": "markdown",
   "id": "d1eeadbc",
   "metadata": {},
   "source": [
    "\n",
    "## Background subtraction\n",
    "\n",
    "A very common correction you will need to do to experimental data is background subtraction. Some softwares from instruments will do this automatically when you do a blank measurement, but others (and quite often, you would preferably) record a blank/background measurement, then record your samples.\n",
    "\n",
    "Sometimes this can be as simple as subtracting a constant amount from all your data. Turning to our previous fluorescence spectra example, we see a stable amount of signal that is above zero outside of the range of wavelengths where we would expect photoluminescence (mainly, <300 nm and >900 nm). We therefore may want to find out what this value is, and subtract that value from *every* value in our intensity array, as that would could as our background signal. we can do that using the following array manipulation\n",
    "\n",
    "`intens = intens - 315`\n",
    "\n",
    "All this does is take every element of the `array` we defined as `intensity`, and subtract the value of `315` from it. As an example, lets do this with the data we imported in the **Importing Data** module"
   ]
  },
  {
   "cell_type": "code",
   "execution_count": 4,
   "id": "2f3cf425",
   "metadata": {},
   "outputs": [
    {
     "data": {
      "text/plain": [
       "<matplotlib.legend.Legend at 0x18e9e525d48>"
      ]
     },
     "execution_count": 4,
     "metadata": {},
     "output_type": "execute_result"
    }
   ],
   "source": [
    "# Import packages\n",
    "import numpy as np\n",
    "import matplotlib.pyplot as plt\n",
    "\n",
    "# define where our file can be found to be imported\n",
    "filepath        = 'data/CdSe_EmissionSpectra.txt'\n",
    "\n",
    "x, y            = np.genfromtxt(filepath,\n",
    "                                 dtype=float,\n",
    "                                 delimiter='',\n",
    "                                 skip_header=14,\n",
    "                                 unpack=True)\n",
    "\n",
    "# plot to try and look if data imported properly\n",
    "\n",
    "plt.plot(x,y,color='red',label='raw') # plt.plot(xvalues, yvalues)\n",
    "bg = 315 + 1250        # define background signal intensity\n",
    "y = y - bg     # subtract background\n",
    "\n",
    "plt.plot(x,y,color='black',label='adjusted')\n",
    "#plt.xlim(400,900)\n",
    "plt.xlabel('Wavelength (nm)')\n",
    "plt.ylabel('Intensity (a.u.)')\n",
    "plt.title('Emission Spectrum of CdSe Quantum Dots after Background Subtraction')\n",
    "plt.legend()"
   ]
  },
  {
   "cell_type": "markdown",
   "id": "90fe77a9",
   "metadata": {},
   "source": [
    "\n",
    "## Normalization. \n",
    "Another common practice is normalization, especially when there are certain features you want to highlight, or if you want to have a better comparison between distinct measurements.\n",
    "\n",
    "`intens = intens/max(intens)`\n",
    "\n",
    "However, often we will only be interested in determining a local maximum to normalize too. Here, we can utilize truncation to say we only want a maximum between a certain range. See below for an example:"
   ]
  },
  {
   "cell_type": "code",
   "execution_count": 5,
   "id": "e8548ee1",
   "metadata": {},
   "outputs": [
    {
     "data": {
      "text/plain": [
       "<matplotlib.legend.Legend at 0x18e9e4d1108>"
      ]
     },
     "execution_count": 5,
     "metadata": {},
     "output_type": "execute_result"
    }
   ],
   "source": [
    "# Import packages\n",
    "import numpy as np\n",
    "import matplotlib.pyplot as plt\n",
    "\n",
    "# define where our file can be found to be imported\n",
    "filepath        = 'data/CdSe_EmissionSpectra.txt'\n",
    "\n",
    "x, y            = np.genfromtxt(filepath,\n",
    "                                 dtype=float,\n",
    "                                 delimiter='',\n",
    "                                 skip_header=14,\n",
    "                                 unpack=True)\n",
    "\n",
    "# TBD Move local maximum w truncation to after we introduce it near the nmr section\n",
    "# locate local maximum between 400 and 500\n",
    "#local_y = y[(x > 400) & (x < 500)] # truncate y values to x values between 400 and 500\n",
    "#local_max = max(local_y) # find local max between 400 and 500\n",
    "\n",
    "# print local maximum and its location\n",
    "#print('local max is equal to', local_max,'and located at x = ', x[y == local_max])\n",
    "\n",
    "local_max = max(y) # find global maximum\n",
    "\n",
    "# normalize by local maximum\n",
    "y = y/local_max\n",
    "\n",
    "# plot normalized data\n",
    "plt.plot(x,y,color='black',label='normalized')\n",
    "\n",
    "# we can also subtract the background, however we usually do that before normalizing and wont do it here\n",
    "\n",
    "plt.xlim(400,900)\n",
    "plt.ylim(0,1.1)\n",
    "plt.xlabel('Wavelength (nm)')\n",
    "plt.ylabel('Intensity (norm.)')\n",
    "plt.title('Emission Spectrum of CdSe Quantum Dots after Normalization')\n",
    "plt.legend()"
   ]
  },
  {
   "cell_type": "markdown",
   "id": "dd5bca0b",
   "metadata": {},
   "source": [
    "This is especially useful when comparing distinct spectra, such as in the case where we need to import multiple files."
   ]
  },
  {
   "cell_type": "markdown",
   "id": "c723c962",
   "metadata": {},
   "source": [
    "## Flipping data\n",
    "\n",
    "Sometimes, the order in which instruments record data is not necessarily how we want to plot it or analyze it. For example, let's say we want to plot the emission by energy rather than wavelength. For reference, we can convert from wavelength of emission to energy in electronvolts by the following:\n",
    "\n",
    "$$\n",
    "E_{\\lambda} = \\frac{1239.8}{\\lambda}  \\text{ eV}\n",
    "$$\n",
    "\n",
    "So we can easily plot emission intensity versus energy as follows:"
   ]
  },
  {
   "cell_type": "code",
   "execution_count": 6,
   "id": "1510502e",
   "metadata": {},
   "outputs": [
    {
     "data": {
      "text/plain": [
       "Text(0.5, 1.0, 'Emission Spectrum of CdSe Quantum Dots, energy x-axis')"
      ]
     },
     "execution_count": 6,
     "metadata": {},
     "output_type": "execute_result"
    }
   ],
   "source": [
    "# Import packages\n",
    "import numpy as np\n",
    "import matplotlib.pyplot as plt\n",
    "\n",
    "# define where our file can be found to be imported\n",
    "filepath        = 'data/CdSe_EmissionSpectra.txt'\n",
    "\n",
    "wave, intensity            = np.genfromtxt(filepath,\n",
    "                                 dtype=float,\n",
    "                                 delimiter='',\n",
    "                                 skip_header=14,\n",
    "                                 unpack=True)\n",
    "\n",
    "# calculate a new energy array from wavelength array\n",
    "ev = 1239.8/wave\n",
    "\n",
    "# plot normalized data by ev instead of wavelength\n",
    "plt.plot(ev,intensity,color='black')\n",
    "\n",
    "# we can also subtract the background, however we usually do that before normalizing and wont do it here\n",
    "\n",
    "plt.xlabel('Energy (eV)')\n",
    "plt.ylabel('Intensity (a.u.)')\n",
    "plt.title('Emission Spectrum of CdSe Quantum Dots, energy x-axis')"
   ]
  },
  {
   "cell_type": "markdown",
   "id": "7e0960d1",
   "metadata": {},
   "source": [
    "Generally we plot energy from highest to lowest, however by default `matplotlib` plots from lowest to highest values. This is common for many other plots, such as NMR plots which we will see later below. We can easily fix this by reversing the order of our axis limits to `plt.xlim(max,min)` rather than the typical min, max order. We can easily obtain the minimum and maximum values for our x-axis by calling `max(x)` and `min(x)` respectively, where `x` is whatever label we use for our x-data. See below for example"
   ]
  },
  {
   "cell_type": "code",
   "execution_count": 7,
   "id": "42428184",
   "metadata": {},
   "outputs": [
    {
     "data": {
      "text/plain": [
       "Text(0.5, 1.0, 'Emission Spectrum of CdSe Quantum Dots, reversed energy x-axis')"
      ]
     },
     "execution_count": 7,
     "metadata": {},
     "output_type": "execute_result"
    }
   ],
   "source": [
    "# plot data\n",
    "plt.plot(ev,intensity,color='black')\n",
    "\n",
    "# reverse x-axis, to go in descending order. Often used when plotting quantities related to energy.\n",
    "plt.xlim(max(ev),min(ev))\n",
    "\n",
    "plt.xlabel('Energy (eV)')\n",
    "plt.ylabel('Intensity (a.u.)')\n",
    "plt.title('Emission Spectrum of CdSe Quantum Dots, reversed energy x-axis')"
   ]
  },
  {
   "cell_type": "markdown",
   "id": "845c5081",
   "metadata": {},
   "source": [
    "Additionally, We also may want to do this with our data arrays themselves. To do this, we can simply use `np.flip` as below on our NMR data for example"
   ]
  },
  {
   "cell_type": "code",
   "execution_count": 8,
   "id": "235385d9",
   "metadata": {},
   "outputs": [
    {
     "name": "stdout",
     "output_type": "stream",
     "text": [
      "original array: [3.65988298 3.65573896 3.65161507 ... 1.21765332 1.21732215 1.21699115]\n",
      "flipped array: [1.21699115 1.21732215 1.21765332 ... 3.65161507 3.65573896 3.65988298]\n"
     ]
    }
   ],
   "source": [
    "print('original array:',ev)\n",
    "ev_flipped = np.flip(ev)\n",
    "print('flipped array:',ev_flipped)"
   ]
  },
  {
   "cell_type": "markdown",
   "id": "e3e0f859",
   "metadata": {},
   "source": [
    "This is useful in case we want to work with our data in a specific order of values! But usually, just reversing the plot will be enough."
   ]
  }
 ],
 "metadata": {
  "kernelspec": {
   "display_name": "base",
   "language": "python",
   "name": "python3"
  },
  "language_info": {
   "codemirror_mode": {
    "name": "ipython",
    "version": 3
   },
   "file_extension": ".py",
   "mimetype": "text/x-python",
   "name": "python",
   "nbconvert_exporter": "python",
   "pygments_lexer": "ipython3",
   "version": "3.7.4"
  },
  "vscode": {
   "interpreter": {
    "hash": "a9df6c50021afb46a050526f87dc25305d0dfd26263394c837e5f0a4168c492f"
   }
  }
 },
 "nbformat": 4,
 "nbformat_minor": 5
}