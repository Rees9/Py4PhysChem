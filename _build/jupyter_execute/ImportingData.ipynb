{
 "cells": [
  {
   "cell_type": "markdown",
   "id": "c3fcf9b0",
   "metadata": {},
   "source": [
    "# Importing Data into Python\n",
    "\n",
    "```{note}\n",
    "For students of CHM223, you should be familiar with simple Python syntax related to importing packages and defining variables after assignment 1. From assignment 2, you should be familiar with simple plotting using matplotlib. We will assume some of this basic knowledge in this section, however plotting in particular will be covered in more detail in another section\n",
    "```\n",
    "\n",
    "Here, we will learn how to actually import data into Python to be manipulated. This is typically done through packages, the main two that are used are `numpy` and `pandas`. Pandas is typically used for massive datasets and has a lot of built-in function for data processing and analysis. By contrast, numpy is a bit more barebones but (usefully) relatively straightforward to use.\n",
    "\n",
    "Importing experimental data is simple in theory, but usually requires some care in practice. Ideally, all experimental data would look like the following:\n",
    "\n",
    "| Time (s) | Conc (mM) |\n",
    "|----------|-----------|\n",
    "| 0        | 1         |\n",
    "| 1        | 0.72      |\n",
    "| 2        | 0.51      |\n",
    "| 3        | 0.37      |\n",
    "| 4        | 0.26      |\n",
    "| 5        | 0.19      |\n",
    "| 6        | 0.14      |\n",
    "| 7        | 0.1       |\n",
    "| 8        | 0.07      |\n",
    "| 9        | 0.05      |\n",
    "| 10       | 0.04      |\n",
    "\n",
    "\n",
    "However in reality, it looks more like this:\n",
    "<div>\n",
    "<img src=\"images/scary_tres_data.png\" alt=\"\" width=\"600\"/>\n",
    "</div>\n",
    "\n",
    "```{figure} images/scary_tres_data.png\n",
    "---\n",
    "width: 600px\n",
    "---\n",
    "[Imperiale, C. *et al.* (Wilson) **2023**. *ChemRxiv*](https://doi.org/10.26434/chemrxiv-2023-5k2q9)\n",
    "```\n",
    "(For those interested, yes, this is actual data. It is a Time-Resolved Emission Spectrum of lead sulphide quantum dots, which tracks the intensity of photoluminescence at each wavelength over time following pulsed excitation from a laser. Check out the citation source if you're interested!)\n",
    "\n",
    "Now turning this data into something useful is the first, important step before we can do most meaningful analyses. With Python alone, there are countless ways to do this. For our purposes, we are going to learn how to use the `numpy` package to import data. "
   ]
  },
  {
   "cell_type": "markdown",
   "id": "4ed58f6f",
   "metadata": {},
   "source": [
    "## Sample Data files\n",
    "\n",
    "We will be using real experimental data files throughout the textbook. These are all locally hosted on this textbook, and can also be downloaded directly from the [github repo](linkgoeshere). When relevant, we will also provide literature sources where you can learn more about the underlying research in which these data have been used!"
   ]
  },
  {
   "cell_type": "markdown",
   "id": "e9e781f0",
   "metadata": {},
   "source": [
    "## Reading and Importing data files: numpy.genfromtxt\n",
    "\n",
    "`````{admonition} For CHM223 students\n",
    ":class: important\n",
    "This subsection is relevant for your assignment!\n",
    "`````\n",
    "\n",
    "`numpy` is useful for importing data of different filetypes, especially *.csv (plain text, [comma-separated value](https://en.wikipedia.org/wiki/Comma-separated_values) spreadsheets) and other plain text formats (e.g. *.txt files, or other extensions ...or none at all!) At a basic level, `numpy` will take any data that is **delimited** (i.e. separated by tabs, commas, anything---just like how an Excel .csv file is separated into cells) and import it into an array in Python. So the idea is to take any type of data, and turn it into something that Python (and hence ourselves!) can understand and work with.\n",
    "\n",
    "`````{admonition} When in doubt, look at the data!\n",
    ":class: tip\n",
    "Data can by formatted in myriad ways, and it's very hard to be sure how its formatted without looking at it! Even if not a .csv file, most data files can be opened/viewed in a simple text editor, as seen in the examples given above. If you are unsure of how your data is formatted, open it up with notepad or an equivalent text editor and take a look! This will allow you to determine how to correctly import it into Python.\n",
    "`````\n",
    "\n",
    "Below we will see some template code to import and plot data using numpy.genfromtxt."
   ]
  },
  {
   "cell_type": "code",
   "execution_count": 1,
   "id": "5ffe9649",
   "metadata": {},
   "outputs": [
    {
     "data": {
      "image/png": "[encoded data removed]",
      "text/plain": [
       "<Figure size 640x480 with 1 Axes>"
      ]
     },
     "metadata": {},
     "output_type": "display_data"
    }
   ],
   "source": [
    "### IMPORT AND ROUGH PLOT DATA\n",
    "# Import packages\n",
    "import numpy as np\n",
    "import matplotlib.pyplot as plt\n",
    "\n",
    "# define where our file can be found to be imported\n",
    "filepath        = 'data/CdSe_EmissionSpectra.txt'\n",
    "\n",
    "x, y            = np.genfromtxt(  \n",
    "# filepath, defined below, would be the PATH to the file we are looking to have Python read.\n",
    "                                filepath,\n",
    "# dtype is used to specify what the data type of the imported data is. Can be a float, integer, string, anything!\n",
    "                                 dtype=float,       \n",
    "# delimiter defines what character separates columns of data. Here, it's just a space, but it could be a comma, tab, etc.\n",
    "                                 delimiter='',      \n",
    "# this allows us to skip a certain number of lines at the top of our file. Often used for skipping output from instruments and software.\n",
    "                                 skip_header=14,    \n",
    "# this separates our data by columns, so we can assign each column of data to a new array, such as x and y values (wavelength, intensity)\n",
    "                                 unpack=True)       \n",
    "\n",
    "# plot to try and look if data imported properly\n",
    "plt.plot(x,y)\n",
    "plt.show()"
   ]
  },
  {
   "cell_type": "markdown",
   "id": "1892358d",
   "metadata": {},
   "source": [
    "(This data is the emission spectra of CdSe quantum dots with functionalized surfaces to induce a large fraction of redshifted \"trap\" emission. Similar data was used in [Hasham, M. *et al.* (Wilson) **2023** *J. Phys. Chem. Lett.*](https://doi.org/10.1021/acs.jpclett.2c03443))\n",
    "\n",
    "Wonderful! We can read the data, and confirmed that we did, in fact, import it properly. However quite a bit just happened, so let's go over a few parameters to explain what we just did and how you can use these tools.\n",
    "\n",
    "- In this example, you can replace `'data/CdSe_EmissionSpectra.txt'` with a path to any other file that you want to import. (N.B. in the absence of a full file-path, when your development environment (e.g. JupyterHub, VSCode) goes looking for the file, it will pre-pend the path of the folder that your *.py or *.ipynb file is in by default.)\n",
    "- `delimiter=` defines what character separates the columns in each line/row of data. For a .csv this is a comma (csv stands for comma-seperated values, after all.) Other common delimiters (in e.g. generic .txt files) are a blank space, tab, or semicolon. For a blank space, we would use `delimiter=''`\n",
    "- `skip_header=` allows you to skip a certain number of lines at the top of your file. Often, outputs from instruments or software will include some metadata at the top (date/time, instrument settings, etc.), which may not be useful for plotting. Here, we use `skip_header=14` to skip the first 14 lines of our file. Why 14? Because this is how many rows of metadata we saw when we looked at the data directly in a text editor!\n",
    "- `dtype=` is important because it defines which datatype numpy will expect from the data it is reading. Commonly, this will be a [float](https://en.wikipedia.org/wiki/Floating-point_arithmetic) (a format for numbers in scientific notation), but it could also be an integer, string (i.e. characters/text), or something else entirely.\n",
    "- `unpack=True` separates our data by columns, so we can assign each column of data to a new array, such as x and y values (wavelength, intensity).\n",
    "\n",
    "There are several other options we can specify, [which you can find here](https://numpy.org/devdocs/user/basics.io.genfromtxt.html). However, these are some of the most common ones you will encounter."
   ]
  },
  {
   "cell_type": "markdown",
   "id": "7e507c47",
   "metadata": {},
   "source": [
    "## Importing multiple data files at once\n",
    "Often, we will have multiple sets of data that we want to collect into a single plot to visualize some trend or change. Using a simple `for` loop, we can use `numpy.genfromtxt` on multiple files in a single folder that meet some criteria, such as having a specific file extension, or having a certain phrase in their filename.\n",
    "\n",
    "A \"for loop\" will perform an action repeatedly for different inputs, usually given by an array. For example, see below if we want to print each number between 1 and 10."
   ]
  },
  {
   "cell_type": "code",
   "execution_count": 2,
   "id": "3872e5fb",
   "metadata": {},
   "outputs": [
    {
     "name": "stdout",
     "output_type": "stream",
     "text": [
      "1\n",
      "2\n",
      "3\n",
      "4\n",
      "5\n",
      "6\n",
      "7\n",
      "8\n",
      "9\n"
     ]
    }
   ],
   "source": [
    "#import packages\n",
    "import numpy as np\n",
    " # create an array of numbersf from 0 to 10, in steps of 1\n",
    "array = np.arange(1,10,1)\n",
    "\n",
    "# for each number in the array, print it\n",
    "for i in array:\n",
    "    print(i) # print each number in the array"
   ]
  },
  {
   "cell_type": "markdown",
   "id": "ea5acc97",
   "metadata": {},
   "source": [
    "We will also use a new function `os.listdir()`. This function allows us to run a terminal command through Python, in particular `dir`, which will list all of the files within a certain directory (similar to what you'd see in Windows File Explorer or iOS Finder).\n",
    "\n",
    "As an example, here is the result of the `os.listdir()` command run on a folder on Prof. Wilson's computer containinng a bunch of data files from some photoluminescence spectroscopy on CdSe quantum dots. Each file represents one spectrum, and the overall experiment sought to highlighting the dependence of emission spectra on the incident power of the laser used to excite the sample. As a result, the experimenter used the filenames as a de facto lab-book, and wrote in some key experimental parameters---most notably the excitation power in mW:"
   ]
  },
  {
   "cell_type": "code",
   "execution_count": 3,
   "id": "9fee0bfa",
   "metadata": {},
   "outputs": [
    {
     "name": "stdout",
     "output_type": "stream",
     "text": [
      "R101 532 ex 100 ms Power 550CGLP 0.13 mW.txt\n",
      "R101 532 ex 100 ms Power 550CGLP 0.25 mW.txt\n",
      "R101 532 ex 100 ms Power 550CGLP 13.78 mW.txt\n",
      "R101 532 ex 100 ms Power 550CGLP 2.52 mW.txt\n",
      "R101 532 ex 100 ms Power 550CGLP 20.6 mW.txt\n",
      "R101 532 ex 100 ms Power 550CGLP 24.9 mW.txt\n",
      "R101 532 ex 200 ms Power 550CGLP 0.093 mW.txt\n",
      "R101 532 ex 200 ms Power 550CGLP 0.211 mW.txt\n",
      "R101 532 ex 200 ms Power 550CGLP 0.597 mW.txt\n",
      "R101 532 ex 200 ms Power 550CGLP 10.6 mW.txt\n",
      "R101 532 ex 200 ms Power 550CGLP 2.03 mW.txt\n",
      "R101 532 ex 200 ms Power 550CGLP 20.0 mW.txt\n",
      "R101 532 ex 200 ms Power 550CGLP 5.45 mW.txt\n",
      "R101 532 ex 3.41 mW Integration 550CGLP 1000 ms.txt\n",
      "R101 532 ex 3.41 mW Integration 550CGLP 20 ms.txt\n",
      "R101 532 ex 3.41 mW Integration 550CGLP 200 ms.txt\n",
      "R101 532 ex 3.41 mW Integration 550CGLP 2000 ms.txt\n",
      "R101 532 ex 3.41 mW Integration 550CGLP 50 ms.txt\n",
      "R101 532 ex 3.41 mW Integration 550CGLP 500 ms.txt\n",
      "R101 532 ex 3.41 mW Integration 550CGLP 850 ms.txt\n"
     ]
    }
   ],
   "source": [
    "# import packages\n",
    "import numpy as np\n",
    "import os # needed to use os.listdir()\n",
    "\n",
    "# for each filename in the folder, print the filename\n",
    "for filename in os.listdir('data/em_vs_laser/'): #os.listdir() will return each file in a folder.\n",
    "    # print filename\n",
    "    print(filename)"
   ]
  },
  {
   "cell_type": "markdown",
   "id": "cfe7ec89",
   "metadata": {},
   "source": [
    "Useful! We can combine this command to generate a list of filenames with the previous code to import each file individually, and additional lines (from, e.g. CHM223 Computational Assignment #2) to generate a plot containing a curve for each file. See the combined code below, which you'll believe could be endlessly adapted to import other data!"
   ]
  },
  {
   "cell_type": "code",
   "execution_count": 4,
   "id": "4c1d2b66",
   "metadata": {},
   "outputs": [
    {
     "data": {
      "text/plain": [
       "Text(0, 0.5, 'intensity (a.u.)')"
      ]
     },
     "execution_count": 4,
     "metadata": {},
     "output_type": "execute_result"
    }
   ],
   "source": [
    "# import packages\n",
    "import numpy as np\n",
    "import matplotlib.pyplot as plt\n",
    "import os # needed to use os.listdir()\n",
    "\n",
    "for filename in os.listdir('data/em_vs_laser/'): #os.listdir() will return each file in a folder.\n",
    "    # import the data from that file\n",
    "    wavelength, intensity = np.genfromtxt(f'data/em_vs_laser/{filename}',\n",
    "                                          skip_header=14,\n",
    "                                          delimiter='',\n",
    "                                          unpack=True)\n",
    "\n",
    "    # note: an f string is used above to insert the filename variable into the filepath!\n",
    "    # this allows us to insert variables into strings more easily\n",
    "    \n",
    "    # plot the data from that file\n",
    "    plt.plot(wavelength,intensity,label=filename)\n",
    "\n",
    "plt.xlabel('wavelength')\n",
    "plt.ylabel('intensity (a.u.)')"
   ]
  },
  {
   "cell_type": "markdown",
   "id": "91cfb0a4",
   "metadata": {},
   "source": [
    "## Excluding files: checking the filenames\n",
    "Following on from the previous example, it's commonly the case that you don't want/need to plot _every_ file in a given folder. However, from what you've learned, you can use boolean logic to specify a condition on the filenames that are imported. In this particular case with the filenames above, the data files could be grouped into two categories, each from a different sub-experiment: one measuring emission intensity vs excitation power, and the other measuring emission intensity vs integration time---the amount of time that the detector exposed to the emitted light. Because the experimenter included this information in the filenames (by including either 'Power' or 'Integration', we can write an `if` statement to test each file, and only import it if it's a member of the desired group. For example, to only look at data referencing integration time, we can make a condition in our import and plot loop as follows (we'll use the filnames as the legend entries):"
   ]
  },
  {
   "cell_type": "code",
   "execution_count": 5,
   "id": "d6505eda",
   "metadata": {},
   "outputs": [
    {
     "data": {
      "text/plain": [
       "<matplotlib.legend.Legend at 0x21cbe20e108>"
      ]
     },
     "execution_count": 5,
     "metadata": {},
     "output_type": "execute_result"
    }
   ],
   "source": [
    "# import packages\n",
    "import numpy as np\n",
    "import matplotlib.pyplot as plt\n",
    "import os\n",
    "\n",
    "for filename in os.listdir('data/em_vs_laser/'): #os.listdir() will return each file in a folder.\n",
    "    # import the data from that file\n",
    "    wavelength, intensity = np.genfromtxt(f'data/em_vs_laser/{filename}',skip_header=14,delimiter='',unpack=True) # we can determine skip_header=14 by opening the file in a text editor and counting the number of lines before the data starts.\n",
    "    # check if filename has the word Integration in it\n",
    "    if 'Integration' in filename:\n",
    "        plt.plot(wavelength,intensity,label=filename) # plot the intensity\n",
    "    # we don't define an else statement, so if the filename does not have the word Integration in it, nothing will happen.\n",
    "\n",
    "# add labels and legend\n",
    "plt.xlabel('wavelength')\n",
    "plt.ylabel('intensity (a.u.)')\n",
    "plt.legend()"
   ]
  },
  {
   "cell_type": "markdown",
   "id": "c5de3d1d",
   "metadata": {},
   "source": [
    "## Parsing filenames: string.split()\n",
    "Lastly, continuing our data-import example, we can modify the filenames if we want to be more succinct, or even extract experimental details (like the excitation power used) if we want to. In this example, the only information that we're looking for from the filename is the integration time at the end. We can parse this out using another function called `.split`, which (you might guess) allows us to split a string into multiple smaller strings based on some character separator. For example, if we want to split the filename into 'words' which are each separated by a space, we could do:"
   ]
  },
  {
   "cell_type": "code",
   "execution_count": 6,
   "id": "5a965ea5",
   "metadata": {},
   "outputs": [
    {
     "name": "stdout",
     "output_type": "stream",
     "text": [
      "R101 532 ex 3.41 mW Integration 550CGLP 850 ms.txt\n",
      "['R101', '532', 'ex', '3.41', 'mW', 'Integration', '550CGLP', '850', 'ms.txt']\n"
     ]
    }
   ],
   "source": [
    "print(filename)\n",
    "print(filename.split(' '))\n"
   ]
  },
  {
   "cell_type": "markdown",
   "id": "12dcc779",
   "metadata": {},
   "source": [
    "Then, we could select the eighth element in this new array of 'words', which (given the format of the filename) is the integration time that we're looking for as legend labels for this experiment. Code could look like this: `words = filename.split(' ')`, and then `label=words[8]`. We can see this implemented in the previous data as a single, combined line of code, below:"
   ]
  },
  {
   "cell_type": "code",
   "execution_count": 7,
   "id": "10f08ce8",
   "metadata": {},
   "outputs": [
    {
     "ename": "NameError",
     "evalue": "name 'legend' is not defined",
     "output_type": "error",
     "traceback": [
      "\u001b[1;31m---------------------------------------------------------------------------\u001b[0m",
      "\u001b[1;31mNameError\u001b[0m                                 Traceback (most recent call last)",
      "\u001b[1;32m<ipython-input-7-3cc91fc37843>\u001b[0m in \u001b[0;36m<module>\u001b[1;34m\u001b[0m\n\u001b[0;32m     16\u001b[0m \u001b[0mplt\u001b[0m\u001b[1;33m.\u001b[0m\u001b[0mylabel\u001b[0m\u001b[1;33m(\u001b[0m\u001b[1;34m'intensity (a.u.)'\u001b[0m\u001b[1;33m)\u001b[0m\u001b[1;33m\u001b[0m\u001b[1;33m\u001b[0m\u001b[0m\n\u001b[0;32m     17\u001b[0m \u001b[0mplt\u001b[0m\u001b[1;33m.\u001b[0m\u001b[0mlegend\u001b[0m\u001b[1;33m(\u001b[0m\u001b[1;33m)\u001b[0m\u001b[1;33m\u001b[0m\u001b[1;33m\u001b[0m\u001b[0m\n\u001b[1;32m---> 18\u001b[1;33m \u001b[0mlegend\u001b[0m\u001b[1;33m.\u001b[0m\u001b[0mset_title\u001b[0m\u001b[1;33m(\u001b[0m\u001b[1;34m'Integration time (ms)'\u001b[0m\u001b[1;33m)\u001b[0m\u001b[1;33m\u001b[0m\u001b[1;33m\u001b[0m\u001b[0m\n\u001b[0m",
      "\u001b[1;31mNameError\u001b[0m: name 'legend' is not defined"
     ]
    }
   ],
   "source": [
    "# import packages\n",
    "import numpy as np\n",
    "import matplotlib.pyplot as plt\n",
    "import os\n",
    "\n",
    "for filename in os.listdir('data/em_vs_laser/'): #os.listdir() will return each file in a folder.\n",
    "    wavelength, intensity = np.genfromtxt(f'data/em_vs_laser/{filename}',skip_header=14,delimiter='',unpack=True) # import the data from that file\n",
    "    # check if filename has the word Integration in it\n",
    "    if 'Integration' in filename:\n",
    "        label = filename.split(' ')[8] # Extract the integration time from the filename using the tools discussed above\n",
    "        plt.plot(wavelength,intensity,label=label) # plot the intensity\n",
    "    # we don't define an else statement, so if the filename does not have the word Integration in it, nothing will happen.\n",
    "\n",
    "# add labels and legend\n",
    "plt.xlabel('wavelength')\n",
    "plt.ylabel('intensity (a.u.)')\n",
    "plt.legend()\n",
    "legend.set_title('Integration time (ms)')"
   ]
  }
 ],
 "metadata": {
  "kernelspec": {
   "display_name": "base",
   "language": "python",
   "name": "python3"
  },
  "language_info": {
   "codemirror_mode": {
    "name": "ipython",
    "version": 3
   },
   "file_extension": ".py",
   "mimetype": "text/x-python",
   "name": "python",
   "nbconvert_exporter": "python",
   "pygments_lexer": "ipython3",
   "version": "3.7.4"
  },
  "vscode": {
   "interpreter": {
    "hash": "a9df6c50021afb46a050526f87dc25305d0dfd26263394c837e5f0a4168c492f"
   }
  }
 },
 "nbformat": 4,
 "nbformat_minor": 5
}